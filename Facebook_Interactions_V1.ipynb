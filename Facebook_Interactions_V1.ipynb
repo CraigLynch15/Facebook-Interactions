{
 "cells": [
  {
   "cell_type": "code",
   "execution_count": 454,
   "id": "d3be7f35",
   "metadata": {},
   "outputs": [],
   "source": [
    "import pandas as pd\n",
    "import numpy as np\n",
    "import matplotlib.pyplot as plt\n",
    "import seaborn as sns"
   ]
  },
  {
   "cell_type": "code",
   "execution_count": 455,
   "id": "2e561667",
   "metadata": {},
   "outputs": [
    {
     "name": "stdout",
     "output_type": "stream",
     "text": [
      "(7050, 16)\n"
     ]
    },
    {
     "data": {
      "text/html": [
       "<div>\n",
       "<style scoped>\n",
       "    .dataframe tbody tr th:only-of-type {\n",
       "        vertical-align: middle;\n",
       "    }\n",
       "\n",
       "    .dataframe tbody tr th {\n",
       "        vertical-align: top;\n",
       "    }\n",
       "\n",
       "    .dataframe thead th {\n",
       "        text-align: right;\n",
       "    }\n",
       "</style>\n",
       "<table border=\"1\" class=\"dataframe\">\n",
       "  <thead>\n",
       "    <tr style=\"text-align: right;\">\n",
       "      <th></th>\n",
       "      <th>status_id</th>\n",
       "      <th>status_type</th>\n",
       "      <th>status_published</th>\n",
       "      <th>num_reactions</th>\n",
       "      <th>num_comments</th>\n",
       "      <th>num_shares</th>\n",
       "      <th>num_likes</th>\n",
       "      <th>num_loves</th>\n",
       "      <th>num_wows</th>\n",
       "      <th>num_hahas</th>\n",
       "      <th>num_sads</th>\n",
       "      <th>num_angrys</th>\n",
       "      <th>Column1</th>\n",
       "      <th>Column2</th>\n",
       "      <th>Column3</th>\n",
       "      <th>Column4</th>\n",
       "    </tr>\n",
       "  </thead>\n",
       "  <tbody>\n",
       "    <tr>\n",
       "      <th>0</th>\n",
       "      <td>246675545449582_1649696485147474</td>\n",
       "      <td>video</td>\n",
       "      <td>4/22/2018 6:00</td>\n",
       "      <td>529</td>\n",
       "      <td>512</td>\n",
       "      <td>262</td>\n",
       "      <td>432</td>\n",
       "      <td>92</td>\n",
       "      <td>3</td>\n",
       "      <td>1</td>\n",
       "      <td>1</td>\n",
       "      <td>0</td>\n",
       "      <td>NaN</td>\n",
       "      <td>NaN</td>\n",
       "      <td>NaN</td>\n",
       "      <td>NaN</td>\n",
       "    </tr>\n",
       "    <tr>\n",
       "      <th>1</th>\n",
       "      <td>246675545449582_1649426988507757</td>\n",
       "      <td>photo</td>\n",
       "      <td>4/21/2018 22:45</td>\n",
       "      <td>150</td>\n",
       "      <td>0</td>\n",
       "      <td>0</td>\n",
       "      <td>150</td>\n",
       "      <td>0</td>\n",
       "      <td>0</td>\n",
       "      <td>0</td>\n",
       "      <td>0</td>\n",
       "      <td>0</td>\n",
       "      <td>NaN</td>\n",
       "      <td>NaN</td>\n",
       "      <td>NaN</td>\n",
       "      <td>NaN</td>\n",
       "    </tr>\n",
       "    <tr>\n",
       "      <th>2</th>\n",
       "      <td>246675545449582_1648730588577397</td>\n",
       "      <td>video</td>\n",
       "      <td>4/21/2018 6:17</td>\n",
       "      <td>227</td>\n",
       "      <td>236</td>\n",
       "      <td>57</td>\n",
       "      <td>204</td>\n",
       "      <td>21</td>\n",
       "      <td>1</td>\n",
       "      <td>1</td>\n",
       "      <td>0</td>\n",
       "      <td>0</td>\n",
       "      <td>NaN</td>\n",
       "      <td>NaN</td>\n",
       "      <td>NaN</td>\n",
       "      <td>NaN</td>\n",
       "    </tr>\n",
       "    <tr>\n",
       "      <th>3</th>\n",
       "      <td>246675545449582_1648576705259452</td>\n",
       "      <td>photo</td>\n",
       "      <td>4/21/2018 2:29</td>\n",
       "      <td>111</td>\n",
       "      <td>0</td>\n",
       "      <td>0</td>\n",
       "      <td>111</td>\n",
       "      <td>0</td>\n",
       "      <td>0</td>\n",
       "      <td>0</td>\n",
       "      <td>0</td>\n",
       "      <td>0</td>\n",
       "      <td>NaN</td>\n",
       "      <td>NaN</td>\n",
       "      <td>NaN</td>\n",
       "      <td>NaN</td>\n",
       "    </tr>\n",
       "    <tr>\n",
       "      <th>4</th>\n",
       "      <td>246675545449582_1645700502213739</td>\n",
       "      <td>photo</td>\n",
       "      <td>4/18/2018 3:22</td>\n",
       "      <td>213</td>\n",
       "      <td>0</td>\n",
       "      <td>0</td>\n",
       "      <td>204</td>\n",
       "      <td>9</td>\n",
       "      <td>0</td>\n",
       "      <td>0</td>\n",
       "      <td>0</td>\n",
       "      <td>0</td>\n",
       "      <td>NaN</td>\n",
       "      <td>NaN</td>\n",
       "      <td>NaN</td>\n",
       "      <td>NaN</td>\n",
       "    </tr>\n",
       "  </tbody>\n",
       "</table>\n",
       "</div>"
      ],
      "text/plain": [
       "                          status_id status_type status_published  \\\n",
       "0  246675545449582_1649696485147474       video   4/22/2018 6:00   \n",
       "1  246675545449582_1649426988507757       photo  4/21/2018 22:45   \n",
       "2  246675545449582_1648730588577397       video   4/21/2018 6:17   \n",
       "3  246675545449582_1648576705259452       photo   4/21/2018 2:29   \n",
       "4  246675545449582_1645700502213739       photo   4/18/2018 3:22   \n",
       "\n",
       "   num_reactions  num_comments  num_shares  num_likes  num_loves  num_wows  \\\n",
       "0            529           512         262        432         92         3   \n",
       "1            150             0           0        150          0         0   \n",
       "2            227           236          57        204         21         1   \n",
       "3            111             0           0        111          0         0   \n",
       "4            213             0           0        204          9         0   \n",
       "\n",
       "   num_hahas  num_sads  num_angrys  Column1  Column2  Column3  Column4  \n",
       "0          1         1           0      NaN      NaN      NaN      NaN  \n",
       "1          0         0           0      NaN      NaN      NaN      NaN  \n",
       "2          1         0           0      NaN      NaN      NaN      NaN  \n",
       "3          0         0           0      NaN      NaN      NaN      NaN  \n",
       "4          0         0           0      NaN      NaN      NaN      NaN  "
      ]
     },
     "execution_count": 455,
     "metadata": {},
     "output_type": "execute_result"
    }
   ],
   "source": [
    "df = pd.read_csv('/Users/craiglynch/Desktop/Data_Science_Review/Goalcast/Live.csv')\n",
    "print(df.shape)\n",
    "df.head()"
   ]
  },
  {
   "cell_type": "markdown",
   "id": "65971fca",
   "metadata": {},
   "source": [
    "### Data Cleaning"
   ]
  },
  {
   "cell_type": "code",
   "execution_count": 456,
   "id": "b0da79ac",
   "metadata": {},
   "outputs": [
    {
     "data": {
      "text/plain": [
       "status_id           False\n",
       "status_type         False\n",
       "status_published    False\n",
       "num_reactions       False\n",
       "num_comments        False\n",
       "num_shares          False\n",
       "num_likes           False\n",
       "num_loves           False\n",
       "num_wows            False\n",
       "num_hahas           False\n",
       "num_sads            False\n",
       "num_angrys          False\n",
       "Column1              True\n",
       "Column2              True\n",
       "Column3              True\n",
       "Column4              True\n",
       "dtype: bool"
      ]
     },
     "execution_count": 456,
     "metadata": {},
     "output_type": "execute_result"
    }
   ],
   "source": [
    "df.isnull().any()"
   ]
  },
  {
   "cell_type": "code",
   "execution_count": 457,
   "id": "6a168860",
   "metadata": {},
   "outputs": [
    {
     "name": "stdout",
     "output_type": "stream",
     "text": [
      "[nan]\n",
      "[nan]\n",
      "[nan]\n",
      "[nan]\n"
     ]
    }
   ],
   "source": [
    "print(df['Column1'].unique())\n",
    "print(df['Column2'].unique())\n",
    "print(df['Column3'].unique())\n",
    "print(df['Column4'].unique())"
   ]
  },
  {
   "cell_type": "code",
   "execution_count": 458,
   "id": "bf48ee92",
   "metadata": {},
   "outputs": [],
   "source": [
    "# Four columns have no values at all, so I will drop them\n",
    "df = df.drop(df[['Column1', 'Column2', 'Column3', 'Column4']], axis=1) "
   ]
  },
  {
   "cell_type": "code",
   "execution_count": 459,
   "id": "f373c0f5",
   "metadata": {},
   "outputs": [
    {
     "data": {
      "text/plain": [
       "(6999, 12)"
      ]
     },
     "execution_count": 459,
     "metadata": {},
     "output_type": "execute_result"
    }
   ],
   "source": [
    "# Check for duplicate rows\n",
    "df = df.drop_duplicates()\n",
    "df.shape"
   ]
  },
  {
   "cell_type": "markdown",
   "id": "82dd6fb1",
   "metadata": {},
   "source": [
    "* Originally had 7050 datapoints and 16 fields\n",
    "* 4 fields made up of null values dropped \n",
    "* 51 duplicate rows dropped\n",
    "* Moving forward, working with 6999 unique observations"
   ]
  },
  {
   "cell_type": "markdown",
   "id": "bcc5d0ca",
   "metadata": {},
   "source": [
    "### Exploring the Data"
   ]
  },
  {
   "cell_type": "code",
   "execution_count": 460,
   "id": "cd7f5254",
   "metadata": {},
   "outputs": [
    {
     "data": {
      "text/html": [
       "<div>\n",
       "<style scoped>\n",
       "    .dataframe tbody tr th:only-of-type {\n",
       "        vertical-align: middle;\n",
       "    }\n",
       "\n",
       "    .dataframe tbody tr th {\n",
       "        vertical-align: top;\n",
       "    }\n",
       "\n",
       "    .dataframe thead th {\n",
       "        text-align: right;\n",
       "    }\n",
       "</style>\n",
       "<table border=\"1\" class=\"dataframe\">\n",
       "  <thead>\n",
       "    <tr style=\"text-align: right;\">\n",
       "      <th></th>\n",
       "      <th>num_reactions</th>\n",
       "      <th>num_comments</th>\n",
       "      <th>num_shares</th>\n",
       "      <th>num_likes</th>\n",
       "      <th>num_loves</th>\n",
       "      <th>num_wows</th>\n",
       "      <th>num_hahas</th>\n",
       "      <th>num_sads</th>\n",
       "      <th>num_angrys</th>\n",
       "    </tr>\n",
       "  </thead>\n",
       "  <tbody>\n",
       "    <tr>\n",
       "      <th>count</th>\n",
       "      <td>6999.000000</td>\n",
       "      <td>6999.000000</td>\n",
       "      <td>6999.000000</td>\n",
       "      <td>6999.000000</td>\n",
       "      <td>6999.000000</td>\n",
       "      <td>6999.000000</td>\n",
       "      <td>6999.000000</td>\n",
       "      <td>6999.000000</td>\n",
       "      <td>6999.000000</td>\n",
       "    </tr>\n",
       "    <tr>\n",
       "      <th>mean</th>\n",
       "      <td>224.994571</td>\n",
       "      <td>225.552079</td>\n",
       "      <td>40.258608</td>\n",
       "      <td>209.946707</td>\n",
       "      <td>12.751536</td>\n",
       "      <td>1.252893</td>\n",
       "      <td>0.697957</td>\n",
       "      <td>0.232605</td>\n",
       "      <td>0.110159</td>\n",
       "    </tr>\n",
       "    <tr>\n",
       "      <th>std</th>\n",
       "      <td>452.880746</td>\n",
       "      <td>892.743010</td>\n",
       "      <td>132.046903</td>\n",
       "      <td>439.550330</td>\n",
       "      <td>40.106872</td>\n",
       "      <td>8.725551</td>\n",
       "      <td>3.970912</td>\n",
       "      <td>1.481105</td>\n",
       "      <td>0.688582</td>\n",
       "    </tr>\n",
       "    <tr>\n",
       "      <th>min</th>\n",
       "      <td>0.000000</td>\n",
       "      <td>0.000000</td>\n",
       "      <td>0.000000</td>\n",
       "      <td>0.000000</td>\n",
       "      <td>0.000000</td>\n",
       "      <td>0.000000</td>\n",
       "      <td>0.000000</td>\n",
       "      <td>0.000000</td>\n",
       "      <td>0.000000</td>\n",
       "    </tr>\n",
       "    <tr>\n",
       "      <th>25%</th>\n",
       "      <td>17.000000</td>\n",
       "      <td>0.000000</td>\n",
       "      <td>0.000000</td>\n",
       "      <td>17.000000</td>\n",
       "      <td>0.000000</td>\n",
       "      <td>0.000000</td>\n",
       "      <td>0.000000</td>\n",
       "      <td>0.000000</td>\n",
       "      <td>0.000000</td>\n",
       "    </tr>\n",
       "    <tr>\n",
       "      <th>50%</th>\n",
       "      <td>58.000000</td>\n",
       "      <td>4.000000</td>\n",
       "      <td>0.000000</td>\n",
       "      <td>57.000000</td>\n",
       "      <td>0.000000</td>\n",
       "      <td>0.000000</td>\n",
       "      <td>0.000000</td>\n",
       "      <td>0.000000</td>\n",
       "      <td>0.000000</td>\n",
       "    </tr>\n",
       "    <tr>\n",
       "      <th>75%</th>\n",
       "      <td>216.000000</td>\n",
       "      <td>22.000000</td>\n",
       "      <td>4.000000</td>\n",
       "      <td>182.000000</td>\n",
       "      <td>3.000000</td>\n",
       "      <td>0.000000</td>\n",
       "      <td>0.000000</td>\n",
       "      <td>0.000000</td>\n",
       "      <td>0.000000</td>\n",
       "    </tr>\n",
       "    <tr>\n",
       "      <th>max</th>\n",
       "      <td>4710.000000</td>\n",
       "      <td>20990.000000</td>\n",
       "      <td>3424.000000</td>\n",
       "      <td>4710.000000</td>\n",
       "      <td>657.000000</td>\n",
       "      <td>278.000000</td>\n",
       "      <td>157.000000</td>\n",
       "      <td>51.000000</td>\n",
       "      <td>31.000000</td>\n",
       "    </tr>\n",
       "  </tbody>\n",
       "</table>\n",
       "</div>"
      ],
      "text/plain": [
       "       num_reactions  num_comments   num_shares    num_likes    num_loves  \\\n",
       "count    6999.000000   6999.000000  6999.000000  6999.000000  6999.000000   \n",
       "mean      224.994571    225.552079    40.258608   209.946707    12.751536   \n",
       "std       452.880746    892.743010   132.046903   439.550330    40.106872   \n",
       "min         0.000000      0.000000     0.000000     0.000000     0.000000   \n",
       "25%        17.000000      0.000000     0.000000    17.000000     0.000000   \n",
       "50%        58.000000      4.000000     0.000000    57.000000     0.000000   \n",
       "75%       216.000000     22.000000     4.000000   182.000000     3.000000   \n",
       "max      4710.000000  20990.000000  3424.000000  4710.000000   657.000000   \n",
       "\n",
       "          num_wows    num_hahas     num_sads   num_angrys  \n",
       "count  6999.000000  6999.000000  6999.000000  6999.000000  \n",
       "mean      1.252893     0.697957     0.232605     0.110159  \n",
       "std       8.725551     3.970912     1.481105     0.688582  \n",
       "min       0.000000     0.000000     0.000000     0.000000  \n",
       "25%       0.000000     0.000000     0.000000     0.000000  \n",
       "50%       0.000000     0.000000     0.000000     0.000000  \n",
       "75%       0.000000     0.000000     0.000000     0.000000  \n",
       "max     278.000000   157.000000    51.000000    31.000000  "
      ]
     },
     "execution_count": 460,
     "metadata": {},
     "output_type": "execute_result"
    }
   ],
   "source": [
    "df.describe()"
   ]
  },
  {
   "cell_type": "code",
   "execution_count": 461,
   "id": "7ed4f01c",
   "metadata": {},
   "outputs": [
    {
     "data": {
      "text/plain": [
       "array(['video', 'photo', 'link', 'status'], dtype=object)"
      ]
     },
     "execution_count": 461,
     "metadata": {},
     "output_type": "execute_result"
    }
   ],
   "source": [
    "df['status_type'].unique()"
   ]
  },
  {
   "cell_type": "code",
   "execution_count": 462,
   "id": "784628c1",
   "metadata": {},
   "outputs": [
    {
     "name": "stdout",
     "output_type": "stream",
     "text": [
      "2018-06-13\n",
      "2012-07-15\n"
     ]
    }
   ],
   "source": [
    "df['Date'] = pd.to_datetime(df['status_published']).dt.date\n",
    "df['Time'] = pd.to_datetime(df['status_published']).dt.time\n",
    "\n",
    "df = df.sort_values([\"Date\", \"Time\"], ascending = (False, True))\n",
    "\n",
    "print(df['Date'].max())\n",
    "print(df['Date'].min())"
   ]
  },
  {
   "cell_type": "code",
   "execution_count": 463,
   "id": "c6dd490a",
   "metadata": {},
   "outputs": [
    {
     "data": {
      "text/plain": [
       "photo     4244\n",
       "video     2333\n",
       "status     359\n",
       "link        63\n",
       "Name: status_type, dtype: int64"
      ]
     },
     "execution_count": 463,
     "metadata": {},
     "output_type": "execute_result"
    }
   ],
   "source": [
    "df['status_type'].value_counts()"
   ]
  },
  {
   "cell_type": "code",
   "execution_count": 464,
   "id": "d35c12a1",
   "metadata": {},
   "outputs": [
    {
     "data": {
      "image/png": "[encoded data removed]",
      "text/plain": [
       "<Figure size 640x480 with 1 Axes>"
      ]
     },
     "metadata": {},
     "output_type": "display_data"
    }
   ],
   "source": [
    "#define Seaborn color palette to use\n",
    "colors = sns.color_palette('pastel')[0:5]\n",
    "plt.pie(df['status_type'].value_counts(), labels =df['status_type'].value_counts().index , colors = colors, autopct='%.0f%%')\n",
    "plt.title('Number of Each Status Type')\n",
    "plt.show()"
   ]
  },
  {
   "cell_type": "code",
   "execution_count": 574,
   "id": "17a7d75f",
   "metadata": {},
   "outputs": [],
   "source": [
    "reactions = df.groupby('status_type').sum()\n",
    "reactions = reactions[['num_comments','num_shares','num_likes','num_loves','num_wows','num_hahas','num_sads','num_angrys']]\n",
    "reactions[\"sum\"] = reactions.sum(axis=1)\n",
    "reactions['positive'] = reactions['num_likes'] + reactions['num_loves'] + reactions['num_wows'] + reactions['num_hahas'] \n",
    "reactions['negative'] = reactions['num_sads'] + reactions['num_angrys']\n",
    "reactions= reactions.reset_index()"
   ]
  },
  {
   "cell_type": "code",
   "execution_count": 575,
   "id": "447d45d4",
   "metadata": {},
   "outputs": [
    {
     "data": {
      "text/html": [
       "<div>\n",
       "<style scoped>\n",
       "    .dataframe tbody tr th:only-of-type {\n",
       "        vertical-align: middle;\n",
       "    }\n",
       "\n",
       "    .dataframe tbody tr th {\n",
       "        vertical-align: top;\n",
       "    }\n",
       "\n",
       "    .dataframe thead th {\n",
       "        text-align: right;\n",
       "    }\n",
       "</style>\n",
       "<table border=\"1\" class=\"dataframe\">\n",
       "  <thead>\n",
       "    <tr style=\"text-align: right;\">\n",
       "      <th></th>\n",
       "      <th>status_type</th>\n",
       "      <th>num_comments</th>\n",
       "      <th>num_shares</th>\n",
       "      <th>num_likes</th>\n",
       "      <th>num_loves</th>\n",
       "      <th>num_wows</th>\n",
       "      <th>num_hahas</th>\n",
       "      <th>num_sads</th>\n",
       "      <th>num_angrys</th>\n",
       "      <th>sum</th>\n",
       "      <th>positive</th>\n",
       "      <th>negative</th>\n",
       "    </tr>\n",
       "  </thead>\n",
       "  <tbody>\n",
       "    <tr>\n",
       "      <th>0</th>\n",
       "      <td>link</td>\n",
       "      <td>359</td>\n",
       "      <td>277</td>\n",
       "      <td>23286</td>\n",
       "      <td>19</td>\n",
       "      <td>12</td>\n",
       "      <td>2</td>\n",
       "      <td>0</td>\n",
       "      <td>0</td>\n",
       "      <td>23955</td>\n",
       "      <td>23319</td>\n",
       "      <td>0</td>\n",
       "    </tr>\n",
       "    <tr>\n",
       "      <th>1</th>\n",
       "      <td>photo</td>\n",
       "      <td>65678</td>\n",
       "      <td>10574</td>\n",
       "      <td>721490</td>\n",
       "      <td>5748</td>\n",
       "      <td>2623</td>\n",
       "      <td>793</td>\n",
       "      <td>536</td>\n",
       "      <td>169</td>\n",
       "      <td>807611</td>\n",
       "      <td>730654</td>\n",
       "      <td>705</td>\n",
       "    </tr>\n",
       "    <tr>\n",
       "      <th>2</th>\n",
       "      <td>status</td>\n",
       "      <td>13078</td>\n",
       "      <td>925</td>\n",
       "      <td>157797</td>\n",
       "      <td>549</td>\n",
       "      <td>423</td>\n",
       "      <td>40</td>\n",
       "      <td>126</td>\n",
       "      <td>9</td>\n",
       "      <td>172947</td>\n",
       "      <td>158809</td>\n",
       "      <td>135</td>\n",
       "    </tr>\n",
       "    <tr>\n",
       "      <th>3</th>\n",
       "      <td>video</td>\n",
       "      <td>1499524</td>\n",
       "      <td>269994</td>\n",
       "      <td>566844</td>\n",
       "      <td>82932</td>\n",
       "      <td>5711</td>\n",
       "      <td>4050</td>\n",
       "      <td>966</td>\n",
       "      <td>593</td>\n",
       "      <td>2430614</td>\n",
       "      <td>659537</td>\n",
       "      <td>1559</td>\n",
       "    </tr>\n",
       "  </tbody>\n",
       "</table>\n",
       "</div>"
      ],
      "text/plain": [
       "  status_type  num_comments  num_shares  num_likes  num_loves  num_wows  \\\n",
       "0        link           359         277      23286         19        12   \n",
       "1       photo         65678       10574     721490       5748      2623   \n",
       "2      status         13078         925     157797        549       423   \n",
       "3       video       1499524      269994     566844      82932      5711   \n",
       "\n",
       "   num_hahas  num_sads  num_angrys      sum  positive  negative  \n",
       "0          2         0           0    23955     23319         0  \n",
       "1        793       536         169   807611    730654       705  \n",
       "2         40       126           9   172947    158809       135  \n",
       "3       4050       966         593  2430614    659537      1559  "
      ]
     },
     "execution_count": 575,
     "metadata": {},
     "output_type": "execute_result"
    }
   ],
   "source": [
    "reactions"
   ]
  },
  {
   "cell_type": "markdown",
   "id": "0d9d689b",
   "metadata": {},
   "source": [
    "Reactions to each status type are overwhelmingly positive"
   ]
  },
  {
   "cell_type": "code",
   "execution_count": 467,
   "id": "ed35970e",
   "metadata": {},
   "outputs": [
    {
     "data": {
      "text/html": [
       "<div>\n",
       "<style scoped>\n",
       "    .dataframe tbody tr th:only-of-type {\n",
       "        vertical-align: middle;\n",
       "    }\n",
       "\n",
       "    .dataframe tbody tr th {\n",
       "        vertical-align: top;\n",
       "    }\n",
       "\n",
       "    .dataframe thead th {\n",
       "        text-align: right;\n",
       "    }\n",
       "</style>\n",
       "<table border=\"1\" class=\"dataframe\">\n",
       "  <thead>\n",
       "    <tr style=\"text-align: right;\">\n",
       "      <th></th>\n",
       "      <th>num_reactions</th>\n",
       "      <th>num_comments</th>\n",
       "      <th>num_shares</th>\n",
       "    </tr>\n",
       "    <tr>\n",
       "      <th>status_type</th>\n",
       "      <th></th>\n",
       "      <th></th>\n",
       "      <th></th>\n",
       "    </tr>\n",
       "  </thead>\n",
       "  <tbody>\n",
       "    <tr>\n",
       "      <th>link</th>\n",
       "      <td>23319</td>\n",
       "      <td>359</td>\n",
       "      <td>277</td>\n",
       "    </tr>\n",
       "    <tr>\n",
       "      <th>photo</th>\n",
       "      <td>731372</td>\n",
       "      <td>65678</td>\n",
       "      <td>10574</td>\n",
       "    </tr>\n",
       "    <tr>\n",
       "      <th>status</th>\n",
       "      <td>158944</td>\n",
       "      <td>13078</td>\n",
       "      <td>925</td>\n",
       "    </tr>\n",
       "    <tr>\n",
       "      <th>video</th>\n",
       "      <td>661102</td>\n",
       "      <td>1499524</td>\n",
       "      <td>269994</td>\n",
       "    </tr>\n",
       "  </tbody>\n",
       "</table>\n",
       "</div>"
      ],
      "text/plain": [
       "             num_reactions  num_comments  num_shares\n",
       "status_type                                         \n",
       "link                 23319           359         277\n",
       "photo               731372         65678       10574\n",
       "status              158944         13078         925\n",
       "video               661102       1499524      269994"
      ]
     },
     "execution_count": 467,
     "metadata": {},
     "output_type": "execute_result"
    }
   ],
   "source": [
    "interactions = df.groupby('status_type').sum()\n",
    "interactions = interactions[['num_reactions','num_comments','num_shares']]\n",
    "interactions"
   ]
  },
  {
   "cell_type": "markdown",
   "id": "87abac67",
   "metadata": {},
   "source": [
    "reactions['sum'] - interactions['num_reactions']:\n",
    "* link = 23319 - 23319 = 0\n",
    "* photo = 731359 - 731344 = -13\n",
    "* status = 158944 - 158944 = 0\n",
    "* video = 661096 - 661102 = -6\n",
    "\n",
    "Since the difference between reactions['sum'] and interactions['num_reactions'] is small (~19 out of 1.5 million) I will use the sume of reactions instead of the given num_reactions."
   ]
  },
  {
   "cell_type": "code",
   "execution_count": 468,
   "id": "6d0c1bbf",
   "metadata": {},
   "outputs": [
    {
     "data": {
      "text/html": [
       "<div>\n",
       "<style scoped>\n",
       "    .dataframe tbody tr th:only-of-type {\n",
       "        vertical-align: middle;\n",
       "    }\n",
       "\n",
       "    .dataframe tbody tr th {\n",
       "        vertical-align: top;\n",
       "    }\n",
       "\n",
       "    .dataframe thead th {\n",
       "        text-align: right;\n",
       "    }\n",
       "</style>\n",
       "<table border=\"1\" class=\"dataframe\">\n",
       "  <thead>\n",
       "    <tr style=\"text-align: right;\">\n",
       "      <th></th>\n",
       "      <th>sum_reactions</th>\n",
       "      <th>num_comments</th>\n",
       "      <th>num_shares</th>\n",
       "    </tr>\n",
       "    <tr>\n",
       "      <th>status_type</th>\n",
       "      <th></th>\n",
       "      <th></th>\n",
       "      <th></th>\n",
       "    </tr>\n",
       "  </thead>\n",
       "  <tbody>\n",
       "    <tr>\n",
       "      <th>link</th>\n",
       "      <td>23319</td>\n",
       "      <td>359</td>\n",
       "      <td>277</td>\n",
       "    </tr>\n",
       "    <tr>\n",
       "      <th>photo</th>\n",
       "      <td>731359</td>\n",
       "      <td>65678</td>\n",
       "      <td>10574</td>\n",
       "    </tr>\n",
       "    <tr>\n",
       "      <th>status</th>\n",
       "      <td>158944</td>\n",
       "      <td>13078</td>\n",
       "      <td>925</td>\n",
       "    </tr>\n",
       "    <tr>\n",
       "      <th>video</th>\n",
       "      <td>661096</td>\n",
       "      <td>1499524</td>\n",
       "      <td>269994</td>\n",
       "    </tr>\n",
       "  </tbody>\n",
       "</table>\n",
       "</div>"
      ],
      "text/plain": [
       "             sum_reactions  num_comments  num_shares\n",
       "status_type                                         \n",
       "link                 23319           359         277\n",
       "photo               731359         65678       10574\n",
       "status              158944         13078         925\n",
       "video               661096       1499524      269994"
      ]
     },
     "execution_count": 468,
     "metadata": {},
     "output_type": "execute_result"
    }
   ],
   "source": [
    "temp = reactions.set_index('status_type')\n",
    "temp = pd.concat([temp,interactions],axis=1)\n",
    "temp.rename({'sum': 'sum_reactions'}, axis=1, inplace=True)\n",
    "interactions = temp[['sum_reactions','num_comments','num_shares']]\n",
    "interactions"
   ]
  },
  {
   "cell_type": "code",
   "execution_count": 469,
   "id": "573c3704",
   "metadata": {},
   "outputs": [],
   "source": [
    "# Interactions per post\n",
    "\n",
    "perPost = interactions.T\n",
    "perPost['link'] = perPost['link'].div(63)\n",
    "perPost['status'] = perPost['status'].div(359)\n",
    "perPost['video'] = perPost['video'].div(2333)\n",
    "perPost['photo'] = perPost['photo'].div(4244)\n",
    "perPost = perPost.T"
   ]
  },
  {
   "cell_type": "code",
   "execution_count": 470,
   "id": "3b0c24c4",
   "metadata": {},
   "outputs": [
    {
     "data": {
      "text/html": [
       "<div>\n",
       "<style scoped>\n",
       "    .dataframe tbody tr th:only-of-type {\n",
       "        vertical-align: middle;\n",
       "    }\n",
       "\n",
       "    .dataframe tbody tr th {\n",
       "        vertical-align: top;\n",
       "    }\n",
       "\n",
       "    .dataframe thead th {\n",
       "        text-align: right;\n",
       "    }\n",
       "</style>\n",
       "<table border=\"1\" class=\"dataframe\">\n",
       "  <thead>\n",
       "    <tr style=\"text-align: right;\">\n",
       "      <th></th>\n",
       "      <th>sum_reactions</th>\n",
       "      <th>num_comments</th>\n",
       "      <th>num_shares</th>\n",
       "    </tr>\n",
       "    <tr>\n",
       "      <th>status_type</th>\n",
       "      <th></th>\n",
       "      <th></th>\n",
       "      <th></th>\n",
       "    </tr>\n",
       "  </thead>\n",
       "  <tbody>\n",
       "    <tr>\n",
       "      <th>link</th>\n",
       "      <td>370.142857</td>\n",
       "      <td>5.698413</td>\n",
       "      <td>4.396825</td>\n",
       "    </tr>\n",
       "    <tr>\n",
       "      <th>photo</th>\n",
       "      <td>172.327757</td>\n",
       "      <td>15.475495</td>\n",
       "      <td>2.491517</td>\n",
       "    </tr>\n",
       "    <tr>\n",
       "      <th>status</th>\n",
       "      <td>442.740947</td>\n",
       "      <td>36.428969</td>\n",
       "      <td>2.576602</td>\n",
       "    </tr>\n",
       "    <tr>\n",
       "      <th>video</th>\n",
       "      <td>283.367338</td>\n",
       "      <td>642.744964</td>\n",
       "      <td>115.728247</td>\n",
       "    </tr>\n",
       "  </tbody>\n",
       "</table>\n",
       "</div>"
      ],
      "text/plain": [
       "             sum_reactions  num_comments  num_shares\n",
       "status_type                                         \n",
       "link            370.142857      5.698413    4.396825\n",
       "photo           172.327757     15.475495    2.491517\n",
       "status          442.740947     36.428969    2.576602\n",
       "video           283.367338    642.744964  115.728247"
      ]
     },
     "execution_count": 470,
     "metadata": {},
     "output_type": "execute_result"
    }
   ],
   "source": [
    "perPost"
   ]
  },
  {
   "cell_type": "code",
   "execution_count": 471,
   "id": "bf8a505d",
   "metadata": {},
   "outputs": [
    {
     "data": {
      "image/png": "[encoded data removed]",
      "text/plain": [
       "<Figure size 640x480 with 1 Axes>"
      ]
     },
     "metadata": {},
     "output_type": "display_data"
    }
   ],
   "source": [
    "# Reactions\n",
    "data = perPost['sum_reactions']\n",
    "labels = ['link','photo','status','video']\n",
    "\n",
    "plt.pie(data, labels = labels, colors = colors, autopct='%.0f%%')\n",
    "plt.title('Reactions per Post')\n",
    "plt.show()"
   ]
  },
  {
   "cell_type": "code",
   "execution_count": 472,
   "id": "f4f9c3b3",
   "metadata": {},
   "outputs": [
    {
     "data": {
      "image/png": "[encoded data removed]",
      "text/plain": [
       "<Figure size 640x480 with 1 Axes>"
      ]
     },
     "metadata": {},
     "output_type": "display_data"
    }
   ],
   "source": [
    "# Comments\n",
    "data = perPost['num_comments']\n",
    "labels = ['link','photo','status','video']\n",
    "\n",
    "plt.pie(data, labels = labels, colors = colors, autopct='%.0f%%')\n",
    "plt.title('Comments per Post')\n",
    "plt.show()"
   ]
  },
  {
   "cell_type": "code",
   "execution_count": 473,
   "id": "75ba3299",
   "metadata": {},
   "outputs": [
    {
     "data": {
      "image/png": "[encoded data removed]",
      "text/plain": [
       "<Figure size 640x480 with 1 Axes>"
      ]
     },
     "metadata": {},
     "output_type": "display_data"
    }
   ],
   "source": [
    "# Shares\n",
    "data = perPost['num_shares']\n",
    "labels = ['link','photo','status','video']\n",
    "\n",
    "plt.pie(data, labels = labels, colors = colors, autopct='%.0f%%')\n",
    "plt.title('Shares per Post')\n",
    "plt.show()"
   ]
  },
  {
   "cell_type": "markdown",
   "id": "8ca796b2",
   "metadata": {},
   "source": [
    "Per post, videos get the most shares and comments, statuses get the most reactions"
   ]
  },
  {
   "cell_type": "markdown",
   "id": "3b06f68a",
   "metadata": {},
   "source": [
    "#### Breakdown by interaction type"
   ]
  },
  {
   "cell_type": "code",
   "execution_count": 474,
   "id": "22b12bad",
   "metadata": {},
   "outputs": [
    {
     "data": {
      "image/png": "[encoded data removed]",
      "text/plain": [
       "<Figure size 640x480 with 1 Axes>"
      ]
     },
     "metadata": {},
     "output_type": "display_data"
    },
    {
     "data": {
      "image/png": "[encoded data removed]",
      "text/plain": [
       "<Figure size 640x480 with 1 Axes>"
      ]
     },
     "metadata": {},
     "output_type": "display_data"
    },
    {
     "data": {
      "image/png": "[encoded data removed]",
      "text/plain": [
       "<Figure size 640x480 with 1 Axes>"
      ]
     },
     "metadata": {},
     "output_type": "display_data"
    }
   ],
   "source": [
    "# Reactions\n",
    "data = interactions['sum_reactions']\n",
    "labels = ['link','photo','status','video']\n",
    "\n",
    "plt.pie(data, labels = labels, colors = colors, autopct='%.0f%%')\n",
    "plt.title('Percentage of Reactions by Status Type')\n",
    "plt.show()\n",
    "\n",
    "# Comments\n",
    "data = interactions['num_comments']\n",
    "labels = ['link','photo','status','video']\n",
    "\n",
    "plt.pie(data, labels = labels, colors = colors, autopct='%.0f%%')\n",
    "plt.title('Percentage of Comments by Status Type')\n",
    "plt.show()\n",
    "\n",
    "# Shares\n",
    "data = interactions['num_shares']\n",
    "labels = ['link','photo','status','video']\n",
    "\n",
    "plt.pie(data, labels = labels, colors = colors, autopct='%.0f%%')\n",
    "plt.title('Percentage of Shares by Status Type')\n",
    "plt.show()"
   ]
  },
  {
   "cell_type": "markdown",
   "id": "ce6afe9a",
   "metadata": {},
   "source": [
    "While photos and videos get similar percentages of user reactions, video gets the highest percentage of comments and shares"
   ]
  },
  {
   "cell_type": "code",
   "execution_count": 475,
   "id": "a15d6925",
   "metadata": {},
   "outputs": [
    {
     "data": {
      "image/png": "[encoded data removed]",
      "text/plain": [
       "<Figure size 640x480 with 1 Axes>"
      ]
     },
     "metadata": {},
     "output_type": "display_data"
    },
    {
     "data": {
      "image/png": "[encoded data removed]",
      "text/plain": [
       "<Figure size 640x480 with 1 Axes>"
      ]
     },
     "metadata": {},
     "output_type": "display_data"
    },
    {
     "data": {
      "image/png": "[encoded data removed]",
      "text/plain": [
       "<Figure size 640x480 with 1 Axes>"
      ]
     },
     "metadata": {},
     "output_type": "display_data"
    },
    {
     "data": {
      "image/png": "[encoded data removed]",
      "text/plain": [
       "<Figure size 640x480 with 1 Axes>"
      ]
     },
     "metadata": {},
     "output_type": "display_data"
    }
   ],
   "source": [
    "status_type = interactions.T\n",
    "# Link\n",
    "data = status_type['link']\n",
    "labels = ['Reactions','Comments','Shares']\n",
    "\n",
    "plt.pie(data, labels = labels, colors = colors, autopct='%.0f%%')\n",
    "plt.title('Percentage of Interactions for Links')\n",
    "plt.show()\n",
    "\n",
    "# Photo\n",
    "data = status_type['photo']\n",
    "labels = ['Reactions','Comments','Shares']\n",
    "\n",
    "plt.pie(data, labels = labels, colors = colors, autopct='%.0f%%')\n",
    "plt.title('Percentage of Interactions for Photos')\n",
    "plt.show()\n",
    "\n",
    "# Status\n",
    "data = status_type['status']\n",
    "labels = ['Reactions','Comments','Shares']\n",
    "\n",
    "plt.pie(data, labels = labels, colors = colors, autopct='%.0f%%')\n",
    "plt.title('Percentage of Interactions for Statuses')\n",
    "plt.show()\n",
    "\n",
    "# Video\n",
    "data = status_type['video']\n",
    "labels = ['Reactions','Comments','Shares']\n",
    "\n",
    "plt.pie(data, labels = labels, colors = colors, autopct='%.0f%%')\n",
    "plt.title('Percentage of Interactions for Videos')\n",
    "plt.show()"
   ]
  },
  {
   "cell_type": "markdown",
   "id": "00a4da8a",
   "metadata": {},
   "source": [
    "* Links, statuses, and photos get high levels of reactions\n",
    "* Videos get high percentage of comments, and the highest percentage of shares"
   ]
  },
  {
   "cell_type": "code",
   "execution_count": null,
   "id": "0012148e",
   "metadata": {},
   "outputs": [],
   "source": []
  },
  {
   "cell_type": "code",
   "execution_count": 476,
   "id": "4c7424ac",
   "metadata": {},
   "outputs": [
    {
     "data": {
      "text/html": [
       "<div>\n",
       "<style scoped>\n",
       "    .dataframe tbody tr th:only-of-type {\n",
       "        vertical-align: middle;\n",
       "    }\n",
       "\n",
       "    .dataframe tbody tr th {\n",
       "        vertical-align: top;\n",
       "    }\n",
       "\n",
       "    .dataframe thead th {\n",
       "        text-align: right;\n",
       "    }\n",
       "</style>\n",
       "<table border=\"1\" class=\"dataframe\">\n",
       "  <thead>\n",
       "    <tr style=\"text-align: right;\">\n",
       "      <th></th>\n",
       "      <th>sum_reactions</th>\n",
       "      <th>num_comments</th>\n",
       "      <th>num_shares</th>\n",
       "    </tr>\n",
       "  </thead>\n",
       "  <tbody>\n",
       "    <tr>\n",
       "      <th>sum_reactions</th>\n",
       "      <td>1.000000</td>\n",
       "      <td>0.535166</td>\n",
       "      <td>0.532400</td>\n",
       "    </tr>\n",
       "    <tr>\n",
       "      <th>num_comments</th>\n",
       "      <td>0.535166</td>\n",
       "      <td>1.000000</td>\n",
       "      <td>0.999984</td>\n",
       "    </tr>\n",
       "    <tr>\n",
       "      <th>num_shares</th>\n",
       "      <td>0.532400</td>\n",
       "      <td>0.999984</td>\n",
       "      <td>1.000000</td>\n",
       "    </tr>\n",
       "  </tbody>\n",
       "</table>\n",
       "</div>"
      ],
      "text/plain": [
       "               sum_reactions  num_comments  num_shares\n",
       "sum_reactions       1.000000      0.535166    0.532400\n",
       "num_comments        0.535166      1.000000    0.999984\n",
       "num_shares          0.532400      0.999984    1.000000"
      ]
     },
     "execution_count": 476,
     "metadata": {},
     "output_type": "execute_result"
    }
   ],
   "source": [
    "corr = interactions[['sum_reactions','num_comments','num_shares']].corr()\n",
    "corr"
   ]
  },
  {
   "cell_type": "markdown",
   "id": "62518502",
   "metadata": {},
   "source": [
    "The number of comments and the number of shares is correlated"
   ]
  },
  {
   "cell_type": "code",
   "execution_count": 477,
   "id": "e739a955",
   "metadata": {},
   "outputs": [
    {
     "data": {
      "text/html": [
       "<div>\n",
       "<style scoped>\n",
       "    .dataframe tbody tr th:only-of-type {\n",
       "        vertical-align: middle;\n",
       "    }\n",
       "\n",
       "    .dataframe tbody tr th {\n",
       "        vertical-align: top;\n",
       "    }\n",
       "\n",
       "    .dataframe thead th {\n",
       "        text-align: right;\n",
       "    }\n",
       "</style>\n",
       "<table border=\"1\" class=\"dataframe\">\n",
       "  <thead>\n",
       "    <tr style=\"text-align: right;\">\n",
       "      <th></th>\n",
       "      <th>num_likes</th>\n",
       "      <th>num_loves</th>\n",
       "      <th>num_wows</th>\n",
       "      <th>num_hahas</th>\n",
       "      <th>num_sads</th>\n",
       "      <th>num_angrys</th>\n",
       "      <th>num_comments</th>\n",
       "      <th>num_shares</th>\n",
       "    </tr>\n",
       "  </thead>\n",
       "  <tbody>\n",
       "    <tr>\n",
       "      <th>num_likes</th>\n",
       "      <td>1.000000</td>\n",
       "      <td>0.212715</td>\n",
       "      <td>0.200015</td>\n",
       "      <td>0.123129</td>\n",
       "      <td>0.057110</td>\n",
       "      <td>0.096276</td>\n",
       "      <td>0.105934</td>\n",
       "      <td>0.179664</td>\n",
       "    </tr>\n",
       "    <tr>\n",
       "      <th>num_loves</th>\n",
       "      <td>0.212715</td>\n",
       "      <td>1.000000</td>\n",
       "      <td>0.510148</td>\n",
       "      <td>0.507899</td>\n",
       "      <td>0.226574</td>\n",
       "      <td>0.394818</td>\n",
       "      <td>0.521320</td>\n",
       "      <td>0.820284</td>\n",
       "    </tr>\n",
       "    <tr>\n",
       "      <th>num_wows</th>\n",
       "      <td>0.200015</td>\n",
       "      <td>0.510148</td>\n",
       "      <td>1.000000</td>\n",
       "      <td>0.288468</td>\n",
       "      <td>0.091425</td>\n",
       "      <td>0.191672</td>\n",
       "      <td>0.163506</td>\n",
       "      <td>0.409803</td>\n",
       "    </tr>\n",
       "    <tr>\n",
       "      <th>num_hahas</th>\n",
       "      <td>0.123129</td>\n",
       "      <td>0.507899</td>\n",
       "      <td>0.288468</td>\n",
       "      <td>1.000000</td>\n",
       "      <td>0.154035</td>\n",
       "      <td>0.225083</td>\n",
       "      <td>0.325064</td>\n",
       "      <td>0.399864</td>\n",
       "    </tr>\n",
       "    <tr>\n",
       "      <th>num_sads</th>\n",
       "      <td>0.057110</td>\n",
       "      <td>0.226574</td>\n",
       "      <td>0.091425</td>\n",
       "      <td>0.154035</td>\n",
       "      <td>1.000000</td>\n",
       "      <td>0.143711</td>\n",
       "      <td>0.257545</td>\n",
       "      <td>0.218628</td>\n",
       "    </tr>\n",
       "    <tr>\n",
       "      <th>num_angrys</th>\n",
       "      <td>0.096276</td>\n",
       "      <td>0.394818</td>\n",
       "      <td>0.191672</td>\n",
       "      <td>0.225083</td>\n",
       "      <td>0.143711</td>\n",
       "      <td>1.000000</td>\n",
       "      <td>0.239557</td>\n",
       "      <td>0.332355</td>\n",
       "    </tr>\n",
       "    <tr>\n",
       "      <th>num_comments</th>\n",
       "      <td>0.105934</td>\n",
       "      <td>0.521320</td>\n",
       "      <td>0.163506</td>\n",
       "      <td>0.325064</td>\n",
       "      <td>0.257545</td>\n",
       "      <td>0.239557</td>\n",
       "      <td>1.000000</td>\n",
       "      <td>0.640536</td>\n",
       "    </tr>\n",
       "    <tr>\n",
       "      <th>num_shares</th>\n",
       "      <td>0.179664</td>\n",
       "      <td>0.820284</td>\n",
       "      <td>0.409803</td>\n",
       "      <td>0.399864</td>\n",
       "      <td>0.218628</td>\n",
       "      <td>0.332355</td>\n",
       "      <td>0.640536</td>\n",
       "      <td>1.000000</td>\n",
       "    </tr>\n",
       "  </tbody>\n",
       "</table>\n",
       "</div>"
      ],
      "text/plain": [
       "              num_likes  num_loves  num_wows  num_hahas  num_sads  num_angrys  \\\n",
       "num_likes      1.000000   0.212715  0.200015   0.123129  0.057110    0.096276   \n",
       "num_loves      0.212715   1.000000  0.510148   0.507899  0.226574    0.394818   \n",
       "num_wows       0.200015   0.510148  1.000000   0.288468  0.091425    0.191672   \n",
       "num_hahas      0.123129   0.507899  0.288468   1.000000  0.154035    0.225083   \n",
       "num_sads       0.057110   0.226574  0.091425   0.154035  1.000000    0.143711   \n",
       "num_angrys     0.096276   0.394818  0.191672   0.225083  0.143711    1.000000   \n",
       "num_comments   0.105934   0.521320  0.163506   0.325064  0.257545    0.239557   \n",
       "num_shares     0.179664   0.820284  0.409803   0.399864  0.218628    0.332355   \n",
       "\n",
       "              num_comments  num_shares  \n",
       "num_likes         0.105934    0.179664  \n",
       "num_loves         0.521320    0.820284  \n",
       "num_wows          0.163506    0.409803  \n",
       "num_hahas         0.325064    0.399864  \n",
       "num_sads          0.257545    0.218628  \n",
       "num_angrys        0.239557    0.332355  \n",
       "num_comments      1.000000    0.640536  \n",
       "num_shares        0.640536    1.000000  "
      ]
     },
     "execution_count": 477,
     "metadata": {},
     "output_type": "execute_result"
    }
   ],
   "source": [
    "corr = df[['num_likes','num_loves','num_wows','num_hahas','num_sads','num_angrys','num_comments','num_shares']].corr()\n",
    "corr"
   ]
  },
  {
   "cell_type": "markdown",
   "id": "d7c512a3",
   "metadata": {},
   "source": [
    "Users are more likely to comment or share if they \"love\" the status type"
   ]
  },
  {
   "cell_type": "code",
   "execution_count": 478,
   "id": "a77b00bb",
   "metadata": {},
   "outputs": [
    {
     "name": "stderr",
     "output_type": "stream",
     "text": [
      "<ipython-input-478-60630a93368f>:1: SettingWithCopyWarning: \n",
      "A value is trying to be set on a copy of a slice from a DataFrame.\n",
      "Try using .loc[row_indexer,col_indexer] = value instead\n",
      "\n",
      "See the caveats in the documentation: https://pandas.pydata.org/pandas-docs/stable/user_guide/indexing.html#returning-a-view-versus-a-copy\n",
      "  interactions['total'] = interactions['sum_reactions'] + interactions['num_comments'] + interactions['num_shares']\n"
     ]
    },
    {
     "data": {
      "text/html": [
       "<div>\n",
       "<style scoped>\n",
       "    .dataframe tbody tr th:only-of-type {\n",
       "        vertical-align: middle;\n",
       "    }\n",
       "\n",
       "    .dataframe tbody tr th {\n",
       "        vertical-align: top;\n",
       "    }\n",
       "\n",
       "    .dataframe thead th {\n",
       "        text-align: right;\n",
       "    }\n",
       "</style>\n",
       "<table border=\"1\" class=\"dataframe\">\n",
       "  <thead>\n",
       "    <tr style=\"text-align: right;\">\n",
       "      <th></th>\n",
       "      <th>sum_reactions</th>\n",
       "      <th>num_comments</th>\n",
       "      <th>num_shares</th>\n",
       "      <th>total</th>\n",
       "    </tr>\n",
       "    <tr>\n",
       "      <th>status_type</th>\n",
       "      <th></th>\n",
       "      <th></th>\n",
       "      <th></th>\n",
       "      <th></th>\n",
       "    </tr>\n",
       "  </thead>\n",
       "  <tbody>\n",
       "    <tr>\n",
       "      <th>link</th>\n",
       "      <td>23319</td>\n",
       "      <td>359</td>\n",
       "      <td>277</td>\n",
       "      <td>23955</td>\n",
       "    </tr>\n",
       "    <tr>\n",
       "      <th>photo</th>\n",
       "      <td>731359</td>\n",
       "      <td>65678</td>\n",
       "      <td>10574</td>\n",
       "      <td>807611</td>\n",
       "    </tr>\n",
       "    <tr>\n",
       "      <th>status</th>\n",
       "      <td>158944</td>\n",
       "      <td>13078</td>\n",
       "      <td>925</td>\n",
       "      <td>172947</td>\n",
       "    </tr>\n",
       "    <tr>\n",
       "      <th>video</th>\n",
       "      <td>661096</td>\n",
       "      <td>1499524</td>\n",
       "      <td>269994</td>\n",
       "      <td>2430614</td>\n",
       "    </tr>\n",
       "  </tbody>\n",
       "</table>\n",
       "</div>"
      ],
      "text/plain": [
       "             sum_reactions  num_comments  num_shares    total\n",
       "status_type                                                  \n",
       "link                 23319           359         277    23955\n",
       "photo               731359         65678       10574   807611\n",
       "status              158944         13078         925   172947\n",
       "video               661096       1499524      269994  2430614"
      ]
     },
     "execution_count": 478,
     "metadata": {},
     "output_type": "execute_result"
    }
   ],
   "source": [
    "interactions['total'] = interactions['sum_reactions'] + interactions['num_comments'] + interactions['num_shares']\n",
    "interactions"
   ]
  },
  {
   "cell_type": "code",
   "execution_count": 479,
   "id": "901f5af2",
   "metadata": {
    "scrolled": false
   },
   "outputs": [
    {
     "data": {
      "image/png": "[encoded data removed]",
      "text/plain": [
       "<Figure size 640x480 with 1 Axes>"
      ]
     },
     "metadata": {},
     "output_type": "display_data"
    }
   ],
   "source": [
    "data = interactions['total']\n",
    "labels = ['link','photo','status','video']\n",
    "\n",
    "plt.pie(data, labels = labels, colors = colors, autopct='%.0f%%')\n",
    "plt.title('Percentage of Total Interactions per Status Type')\n",
    "plt.show()"
   ]
  },
  {
   "cell_type": "markdown",
   "id": "99087f86",
   "metadata": {},
   "source": [
    "Videos have the most total interactions"
   ]
  },
  {
   "cell_type": "markdown",
   "id": "77d25fc3",
   "metadata": {},
   "source": [
    "### Feature Engineering"
   ]
  },
  {
   "cell_type": "code",
   "execution_count": 480,
   "id": "efe44038",
   "metadata": {},
   "outputs": [
    {
     "data": {
      "text/html": [
       "<div>\n",
       "<style scoped>\n",
       "    .dataframe tbody tr th:only-of-type {\n",
       "        vertical-align: middle;\n",
       "    }\n",
       "\n",
       "    .dataframe tbody tr th {\n",
       "        vertical-align: top;\n",
       "    }\n",
       "\n",
       "    .dataframe thead th {\n",
       "        text-align: right;\n",
       "    }\n",
       "</style>\n",
       "<table border=\"1\" class=\"dataframe\">\n",
       "  <thead>\n",
       "    <tr style=\"text-align: right;\">\n",
       "      <th></th>\n",
       "      <th>status_id</th>\n",
       "      <th>status_type</th>\n",
       "      <th>status_published</th>\n",
       "      <th>num_reactions</th>\n",
       "      <th>num_comments</th>\n",
       "      <th>num_shares</th>\n",
       "      <th>num_likes</th>\n",
       "      <th>num_loves</th>\n",
       "      <th>num_wows</th>\n",
       "      <th>num_hahas</th>\n",
       "      <th>num_sads</th>\n",
       "      <th>num_angrys</th>\n",
       "      <th>Date</th>\n",
       "      <th>Time</th>\n",
       "    </tr>\n",
       "  </thead>\n",
       "  <tbody>\n",
       "    <tr>\n",
       "      <th>4732</th>\n",
       "      <td>614855718638584_855483231242497</td>\n",
       "      <td>video</td>\n",
       "      <td>6/13/2018 0:58</td>\n",
       "      <td>97</td>\n",
       "      <td>177</td>\n",
       "      <td>210</td>\n",
       "      <td>48</td>\n",
       "      <td>49</td>\n",
       "      <td>0</td>\n",
       "      <td>0</td>\n",
       "      <td>0</td>\n",
       "      <td>0</td>\n",
       "      <td>2018-06-13</td>\n",
       "      <td>00:58:00</td>\n",
       "    </tr>\n",
       "    <tr>\n",
       "      <th>4731</th>\n",
       "      <td>614855718638584_855485821242238</td>\n",
       "      <td>video</td>\n",
       "      <td>6/13/2018 0:59</td>\n",
       "      <td>27</td>\n",
       "      <td>0</td>\n",
       "      <td>18</td>\n",
       "      <td>27</td>\n",
       "      <td>0</td>\n",
       "      <td>0</td>\n",
       "      <td>0</td>\n",
       "      <td>0</td>\n",
       "      <td>0</td>\n",
       "      <td>2018-06-13</td>\n",
       "      <td>00:59:00</td>\n",
       "    </tr>\n",
       "    <tr>\n",
       "      <th>4730</th>\n",
       "      <td>614855718638584_855501374574016</td>\n",
       "      <td>photo</td>\n",
       "      <td>6/13/2018 1:12</td>\n",
       "      <td>2</td>\n",
       "      <td>0</td>\n",
       "      <td>0</td>\n",
       "      <td>2</td>\n",
       "      <td>0</td>\n",
       "      <td>0</td>\n",
       "      <td>0</td>\n",
       "      <td>0</td>\n",
       "      <td>0</td>\n",
       "      <td>2018-06-13</td>\n",
       "      <td>01:12:00</td>\n",
       "    </tr>\n",
       "    <tr>\n",
       "      <th>4752</th>\n",
       "      <td>614855718638584_853742228083264</td>\n",
       "      <td>video</td>\n",
       "      <td>6/12/2018 1:01</td>\n",
       "      <td>182</td>\n",
       "      <td>356</td>\n",
       "      <td>229</td>\n",
       "      <td>109</td>\n",
       "      <td>72</td>\n",
       "      <td>0</td>\n",
       "      <td>1</td>\n",
       "      <td>0</td>\n",
       "      <td>0</td>\n",
       "      <td>2018-06-12</td>\n",
       "      <td>01:01:00</td>\n",
       "    </tr>\n",
       "    <tr>\n",
       "      <th>4751</th>\n",
       "      <td>614855718638584_853747008082786</td>\n",
       "      <td>video</td>\n",
       "      <td>6/12/2018 1:03</td>\n",
       "      <td>29</td>\n",
       "      <td>0</td>\n",
       "      <td>3</td>\n",
       "      <td>29</td>\n",
       "      <td>0</td>\n",
       "      <td>0</td>\n",
       "      <td>0</td>\n",
       "      <td>0</td>\n",
       "      <td>0</td>\n",
       "      <td>2018-06-12</td>\n",
       "      <td>01:03:00</td>\n",
       "    </tr>\n",
       "  </tbody>\n",
       "</table>\n",
       "</div>"
      ],
      "text/plain": [
       "                            status_id status_type status_published  \\\n",
       "4732  614855718638584_855483231242497       video   6/13/2018 0:58   \n",
       "4731  614855718638584_855485821242238       video   6/13/2018 0:59   \n",
       "4730  614855718638584_855501374574016       photo   6/13/2018 1:12   \n",
       "4752  614855718638584_853742228083264       video   6/12/2018 1:01   \n",
       "4751  614855718638584_853747008082786       video   6/12/2018 1:03   \n",
       "\n",
       "      num_reactions  num_comments  num_shares  num_likes  num_loves  num_wows  \\\n",
       "4732             97           177         210         48         49         0   \n",
       "4731             27             0          18         27          0         0   \n",
       "4730              2             0           0          2          0         0   \n",
       "4752            182           356         229        109         72         0   \n",
       "4751             29             0           3         29          0         0   \n",
       "\n",
       "      num_hahas  num_sads  num_angrys        Date      Time  \n",
       "4732          0         0           0  2018-06-13  00:58:00  \n",
       "4731          0         0           0  2018-06-13  00:59:00  \n",
       "4730          0         0           0  2018-06-13  01:12:00  \n",
       "4752          1         0           0  2018-06-12  01:01:00  \n",
       "4751          0         0           0  2018-06-12  01:03:00  "
      ]
     },
     "execution_count": 480,
     "metadata": {},
     "output_type": "execute_result"
    }
   ],
   "source": [
    "df.head()"
   ]
  },
  {
   "cell_type": "code",
   "execution_count": 481,
   "id": "731a2dbb",
   "metadata": {},
   "outputs": [
    {
     "data": {
      "text/html": [
       "<div>\n",
       "<style scoped>\n",
       "    .dataframe tbody tr th:only-of-type {\n",
       "        vertical-align: middle;\n",
       "    }\n",
       "\n",
       "    .dataframe tbody tr th {\n",
       "        vertical-align: top;\n",
       "    }\n",
       "\n",
       "    .dataframe thead th {\n",
       "        text-align: right;\n",
       "    }\n",
       "</style>\n",
       "<table border=\"1\" class=\"dataframe\">\n",
       "  <thead>\n",
       "    <tr style=\"text-align: right;\">\n",
       "      <th></th>\n",
       "      <th>status_type</th>\n",
       "      <th>total_interaction</th>\n",
       "      <th>hour</th>\n",
       "      <th>day</th>\n",
       "      <th>month</th>\n",
       "      <th>year</th>\n",
       "      <th>day_of_week</th>\n",
       "    </tr>\n",
       "  </thead>\n",
       "  <tbody>\n",
       "    <tr>\n",
       "      <th>4732</th>\n",
       "      <td>video</td>\n",
       "      <td>484</td>\n",
       "      <td>0</td>\n",
       "      <td>13</td>\n",
       "      <td>6</td>\n",
       "      <td>2018</td>\n",
       "      <td>2</td>\n",
       "    </tr>\n",
       "    <tr>\n",
       "      <th>4731</th>\n",
       "      <td>video</td>\n",
       "      <td>45</td>\n",
       "      <td>0</td>\n",
       "      <td>13</td>\n",
       "      <td>6</td>\n",
       "      <td>2018</td>\n",
       "      <td>2</td>\n",
       "    </tr>\n",
       "    <tr>\n",
       "      <th>4730</th>\n",
       "      <td>photo</td>\n",
       "      <td>2</td>\n",
       "      <td>1</td>\n",
       "      <td>13</td>\n",
       "      <td>6</td>\n",
       "      <td>2018</td>\n",
       "      <td>2</td>\n",
       "    </tr>\n",
       "    <tr>\n",
       "      <th>4752</th>\n",
       "      <td>video</td>\n",
       "      <td>767</td>\n",
       "      <td>1</td>\n",
       "      <td>12</td>\n",
       "      <td>6</td>\n",
       "      <td>2018</td>\n",
       "      <td>1</td>\n",
       "    </tr>\n",
       "    <tr>\n",
       "      <th>4751</th>\n",
       "      <td>video</td>\n",
       "      <td>32</td>\n",
       "      <td>1</td>\n",
       "      <td>12</td>\n",
       "      <td>6</td>\n",
       "      <td>2018</td>\n",
       "      <td>1</td>\n",
       "    </tr>\n",
       "    <tr>\n",
       "      <th>...</th>\n",
       "      <td>...</td>\n",
       "      <td>...</td>\n",
       "      <td>...</td>\n",
       "      <td>...</td>\n",
       "      <td>...</td>\n",
       "      <td>...</td>\n",
       "      <td>...</td>\n",
       "    </tr>\n",
       "    <tr>\n",
       "      <th>2624</th>\n",
       "      <td>photo</td>\n",
       "      <td>18</td>\n",
       "      <td>6</td>\n",
       "      <td>15</td>\n",
       "      <td>7</td>\n",
       "      <td>2012</td>\n",
       "      <td>6</td>\n",
       "    </tr>\n",
       "    <tr>\n",
       "      <th>2623</th>\n",
       "      <td>photo</td>\n",
       "      <td>24</td>\n",
       "      <td>6</td>\n",
       "      <td>15</td>\n",
       "      <td>7</td>\n",
       "      <td>2012</td>\n",
       "      <td>6</td>\n",
       "    </tr>\n",
       "    <tr>\n",
       "      <th>2622</th>\n",
       "      <td>photo</td>\n",
       "      <td>15</td>\n",
       "      <td>6</td>\n",
       "      <td>15</td>\n",
       "      <td>7</td>\n",
       "      <td>2012</td>\n",
       "      <td>6</td>\n",
       "    </tr>\n",
       "    <tr>\n",
       "      <th>2621</th>\n",
       "      <td>photo</td>\n",
       "      <td>63</td>\n",
       "      <td>8</td>\n",
       "      <td>15</td>\n",
       "      <td>7</td>\n",
       "      <td>2012</td>\n",
       "      <td>6</td>\n",
       "    </tr>\n",
       "    <tr>\n",
       "      <th>2620</th>\n",
       "      <td>photo</td>\n",
       "      <td>15</td>\n",
       "      <td>23</td>\n",
       "      <td>15</td>\n",
       "      <td>7</td>\n",
       "      <td>2012</td>\n",
       "      <td>6</td>\n",
       "    </tr>\n",
       "  </tbody>\n",
       "</table>\n",
       "<p>6999 rows × 7 columns</p>\n",
       "</div>"
      ],
      "text/plain": [
       "     status_type  total_interaction  hour  day  month  year  day_of_week\n",
       "4732       video                484     0   13      6  2018            2\n",
       "4731       video                 45     0   13      6  2018            2\n",
       "4730       photo                  2     1   13      6  2018            2\n",
       "4752       video                767     1   12      6  2018            1\n",
       "4751       video                 32     1   12      6  2018            1\n",
       "...          ...                ...   ...  ...    ...   ...          ...\n",
       "2624       photo                 18     6   15      7  2012            6\n",
       "2623       photo                 24     6   15      7  2012            6\n",
       "2622       photo                 15     6   15      7  2012            6\n",
       "2621       photo                 63     8   15      7  2012            6\n",
       "2620       photo                 15    23   15      7  2012            6\n",
       "\n",
       "[6999 rows x 7 columns]"
      ]
     },
     "execution_count": 481,
     "metadata": {},
     "output_type": "execute_result"
    }
   ],
   "source": [
    "# Creating the sum reactions (like above) due to the discrepancy between num_reactions\n",
    "df['sum_reactions'] = df['num_likes'] + df['num_loves'] + df['num_wows'] + df['num_hahas'] + df['num_sads'] + df['num_angrys']\n",
    "df['total_interaction'] = df['sum_reactions'] + df['num_comments'] + df['num_shares']\n",
    "\n",
    "# convert the 'Date' column to datetime format\n",
    "df['Date'] = df['Date'].astype('datetime64[ns]')\n",
    "df['day'] = df['Date'].dt.day\n",
    "df['month'] = df['Date'].dt.month\n",
    "df['year'] = df['Date'].dt.year\n",
    "df['day_of_week'] = df['Date'].dt.dayofweek\n",
    "\n",
    "df['hour'] = pd.to_datetime(df['Time'], format='%H:%M:%S').dt.hour\n",
    "\n",
    "datetime = df[['status_type','total_interaction','hour','day','month','year','day_of_week']]\n",
    "datetime"
   ]
  },
  {
   "cell_type": "code",
   "execution_count": 482,
   "id": "57d90b88",
   "metadata": {},
   "outputs": [
    {
     "data": {
      "text/html": [
       "<div>\n",
       "<style scoped>\n",
       "    .dataframe tbody tr th:only-of-type {\n",
       "        vertical-align: middle;\n",
       "    }\n",
       "\n",
       "    .dataframe tbody tr th {\n",
       "        vertical-align: top;\n",
       "    }\n",
       "\n",
       "    .dataframe thead th {\n",
       "        text-align: right;\n",
       "    }\n",
       "</style>\n",
       "<table border=\"1\" class=\"dataframe\">\n",
       "  <thead>\n",
       "    <tr style=\"text-align: right;\">\n",
       "      <th></th>\n",
       "      <th>total_interaction</th>\n",
       "    </tr>\n",
       "    <tr>\n",
       "      <th>year</th>\n",
       "      <th></th>\n",
       "    </tr>\n",
       "  </thead>\n",
       "  <tbody>\n",
       "    <tr>\n",
       "      <th>2012</th>\n",
       "      <td>16552</td>\n",
       "    </tr>\n",
       "    <tr>\n",
       "      <th>2013</th>\n",
       "      <td>49055</td>\n",
       "    </tr>\n",
       "    <tr>\n",
       "      <th>2014</th>\n",
       "      <td>147095</td>\n",
       "    </tr>\n",
       "    <tr>\n",
       "      <th>2015</th>\n",
       "      <td>533334</td>\n",
       "    </tr>\n",
       "    <tr>\n",
       "      <th>2016</th>\n",
       "      <td>170390</td>\n",
       "    </tr>\n",
       "    <tr>\n",
       "      <th>2017</th>\n",
       "      <td>1081573</td>\n",
       "    </tr>\n",
       "    <tr>\n",
       "      <th>2018</th>\n",
       "      <td>1437128</td>\n",
       "    </tr>\n",
       "  </tbody>\n",
       "</table>\n",
       "</div>"
      ],
      "text/plain": [
       "      total_interaction\n",
       "year                   \n",
       "2012              16552\n",
       "2013              49055\n",
       "2014             147095\n",
       "2015             533334\n",
       "2016             170390\n",
       "2017            1081573\n",
       "2018            1437128"
      ]
     },
     "execution_count": 482,
     "metadata": {},
     "output_type": "execute_result"
    }
   ],
   "source": [
    "datetime.groupby('year').sum()[['total_interaction']]"
   ]
  },
  {
   "cell_type": "code",
   "execution_count": 483,
   "id": "e1d0b136",
   "metadata": {},
   "outputs": [
    {
     "data": {
      "image/png": "[encoded data removed]",
      "text/plain": [
       "<Figure size 640x480 with 1 Axes>"
      ]
     },
     "metadata": {},
     "output_type": "display_data"
    }
   ],
   "source": [
    "# Interactions per year\n",
    "sns.barplot (data=datetime , y='total_interaction',x='year')\n",
    "plt.title('Total Interactions per Year')\n",
    "plt.show()"
   ]
  },
  {
   "cell_type": "markdown",
   "id": "1f432648",
   "metadata": {},
   "source": [
    "#### Facebook launches \"reactions\" in 2016. This introduction may have affected how the algorithms calculate interactions"
   ]
  },
  {
   "cell_type": "code",
   "execution_count": 484,
   "id": "a0888885",
   "metadata": {},
   "outputs": [
    {
     "data": {
      "image/png": "[encoded data removed]",
      "text/plain": [
       "<Figure size 640x480 with 1 Axes>"
      ]
     },
     "metadata": {},
     "output_type": "display_data"
    }
   ],
   "source": [
    "# Interactions per month\n",
    "sns.barplot (data=datetime , y='total_interaction',x='month')\n",
    "plt.title('Total Interactions per Month')\n",
    "plt.show()"
   ]
  },
  {
   "cell_type": "markdown",
   "id": "c659a908",
   "metadata": {},
   "source": [
    "#### Spring and Fall appear to have more user interactions\n",
    "\n",
    "Data begins in July, 2012 and ends in June, 2018. - This makes nearly a full year so I will not adjust the monthly data"
   ]
  },
  {
   "cell_type": "code",
   "execution_count": 485,
   "id": "daadc2de",
   "metadata": {},
   "outputs": [
    {
     "data": {
      "image/png": "[encoded data removed]",
      "text/plain": [
       "<Figure size 640x480 with 1 Axes>"
      ]
     },
     "metadata": {},
     "output_type": "display_data"
    }
   ],
   "source": [
    "# Interaction per day of week\n",
    "sns.barplot (data=datetime , y='total_interaction',x='day_of_week')\n",
    "plt.title('Total Interactions per Day of the Week')\n",
    "plt.show()"
   ]
  },
  {
   "cell_type": "markdown",
   "id": "51a0e6bd",
   "metadata": {},
   "source": [
    "#### Even interactions spread across the week"
   ]
  },
  {
   "cell_type": "code",
   "execution_count": 486,
   "id": "3cbb676d",
   "metadata": {
    "scrolled": false
   },
   "outputs": [
    {
     "data": {
      "image/png": "[encoded data removed]",
      "text/plain": [
       "<Figure size 640x480 with 1 Axes>"
      ]
     },
     "metadata": {},
     "output_type": "display_data"
    }
   ],
   "source": [
    "# Interaction per hour of day\n",
    "sns.barplot (data=datetime , y='total_interaction',x='hour')\n",
    "plt.title('Total Interactions per Hour of the Day')\n",
    "plt.show()"
   ]
  },
  {
   "cell_type": "markdown",
   "id": "d11783cf",
   "metadata": {},
   "source": [
    "#### Highest activity during morning hours (7-11)"
   ]
  },
  {
   "cell_type": "markdown",
   "id": "681ddbc2",
   "metadata": {},
   "source": [
    "# Predictive Model to Forecast Engagement Metrics of Future Posts "
   ]
  },
  {
   "cell_type": "markdown",
   "id": "01657dda",
   "metadata": {},
   "source": [
    "* Using data from 2016 onwards as this was when \"Reactions\" were first introduced"
   ]
  },
  {
   "cell_type": "code",
   "execution_count": 545,
   "id": "1468fefd",
   "metadata": {},
   "outputs": [
    {
     "data": {
      "text/plain": [
       "(5340, 9)"
      ]
     },
     "execution_count": 545,
     "metadata": {},
     "output_type": "execute_result"
    }
   ],
   "source": [
    "start_date = 2016\n",
    "df_after_2016 = df[df[\"year\"] >= start_date]\n",
    "df_after_2016 = df_after_2016[['status_type','sum_reactions','num_comments','num_shares','day','month','year','day_of_week','hour']]\n",
    "df_after_2016.shape"
   ]
  },
  {
   "cell_type": "code",
   "execution_count": 562,
   "id": "0e5936a4",
   "metadata": {},
   "outputs": [],
   "source": [
    "df_after_2016 = df_after_2016[['status_type','sum_reactions','num_comments','num_shares']]"
   ]
  },
  {
   "cell_type": "code",
   "execution_count": 563,
   "id": "ebae1a13",
   "metadata": {},
   "outputs": [],
   "source": [
    "# Feature Vector and Target Variable\n",
    "X = df_after_2016\n",
    "y = df_after_2016['status_type']\n",
    "\n",
    "# Convert Categorical variable to integer with label encoder\n",
    "from sklearn.preprocessing import LabelEncoder\n",
    "le = LabelEncoder()\n",
    "\n",
    "X['status_type'] = le.fit_transform(X['status_type'])\n",
    "\n",
    "y = le.transform(y)"
   ]
  },
  {
   "cell_type": "code",
   "execution_count": 564,
   "id": "3fc744c5",
   "metadata": {},
   "outputs": [
    {
     "data": {
      "text/html": [
       "<div>\n",
       "<style scoped>\n",
       "    .dataframe tbody tr th:only-of-type {\n",
       "        vertical-align: middle;\n",
       "    }\n",
       "\n",
       "    .dataframe tbody tr th {\n",
       "        vertical-align: top;\n",
       "    }\n",
       "\n",
       "    .dataframe thead th {\n",
       "        text-align: right;\n",
       "    }\n",
       "</style>\n",
       "<table border=\"1\" class=\"dataframe\">\n",
       "  <thead>\n",
       "    <tr style=\"text-align: right;\">\n",
       "      <th></th>\n",
       "      <th>status_type</th>\n",
       "      <th>sum_reactions</th>\n",
       "      <th>num_comments</th>\n",
       "      <th>num_shares</th>\n",
       "    </tr>\n",
       "  </thead>\n",
       "  <tbody>\n",
       "    <tr>\n",
       "      <th>4732</th>\n",
       "      <td>3</td>\n",
       "      <td>97</td>\n",
       "      <td>177</td>\n",
       "      <td>210</td>\n",
       "    </tr>\n",
       "    <tr>\n",
       "      <th>4731</th>\n",
       "      <td>3</td>\n",
       "      <td>27</td>\n",
       "      <td>0</td>\n",
       "      <td>18</td>\n",
       "    </tr>\n",
       "    <tr>\n",
       "      <th>4730</th>\n",
       "      <td>1</td>\n",
       "      <td>2</td>\n",
       "      <td>0</td>\n",
       "      <td>0</td>\n",
       "    </tr>\n",
       "    <tr>\n",
       "      <th>4752</th>\n",
       "      <td>3</td>\n",
       "      <td>182</td>\n",
       "      <td>356</td>\n",
       "      <td>229</td>\n",
       "    </tr>\n",
       "    <tr>\n",
       "      <th>4751</th>\n",
       "      <td>3</td>\n",
       "      <td>29</td>\n",
       "      <td>0</td>\n",
       "      <td>3</td>\n",
       "    </tr>\n",
       "  </tbody>\n",
       "</table>\n",
       "</div>"
      ],
      "text/plain": [
       "      status_type  sum_reactions  num_comments  num_shares\n",
       "4732            3             97           177         210\n",
       "4731            3             27             0          18\n",
       "4730            1              2             0           0\n",
       "4752            3            182           356         229\n",
       "4751            3             29             0           3"
      ]
     },
     "execution_count": 564,
     "metadata": {},
     "output_type": "execute_result"
    }
   ],
   "source": [
    "X.head()"
   ]
  },
  {
   "cell_type": "code",
   "execution_count": 565,
   "id": "e10d4a46",
   "metadata": {},
   "outputs": [],
   "source": [
    "# Feature scaling\n",
    "cols = X.columns\n",
    "\n",
    "from sklearn.preprocessing import MinMaxScaler\n",
    "\n",
    "ms = MinMaxScaler()\n",
    "X = ms.fit_transform(X)\n"
   ]
  },
  {
   "cell_type": "code",
   "execution_count": 566,
   "id": "f5568fa1",
   "metadata": {},
   "outputs": [
    {
     "data": {
      "text/html": [
       "<div>\n",
       "<style scoped>\n",
       "    .dataframe tbody tr th:only-of-type {\n",
       "        vertical-align: middle;\n",
       "    }\n",
       "\n",
       "    .dataframe tbody tr th {\n",
       "        vertical-align: top;\n",
       "    }\n",
       "\n",
       "    .dataframe thead th {\n",
       "        text-align: right;\n",
       "    }\n",
       "</style>\n",
       "<table border=\"1\" class=\"dataframe\">\n",
       "  <thead>\n",
       "    <tr style=\"text-align: right;\">\n",
       "      <th></th>\n",
       "      <th>status_type</th>\n",
       "      <th>sum_reactions</th>\n",
       "      <th>num_comments</th>\n",
       "      <th>num_shares</th>\n",
       "    </tr>\n",
       "  </thead>\n",
       "  <tbody>\n",
       "    <tr>\n",
       "      <th>0</th>\n",
       "      <td>1.000000</td>\n",
       "      <td>0.021995</td>\n",
       "      <td>0.008433</td>\n",
       "      <td>0.061332</td>\n",
       "    </tr>\n",
       "    <tr>\n",
       "      <th>1</th>\n",
       "      <td>1.000000</td>\n",
       "      <td>0.006122</td>\n",
       "      <td>0.000000</td>\n",
       "      <td>0.005257</td>\n",
       "    </tr>\n",
       "    <tr>\n",
       "      <th>2</th>\n",
       "      <td>0.333333</td>\n",
       "      <td>0.000454</td>\n",
       "      <td>0.000000</td>\n",
       "      <td>0.000000</td>\n",
       "    </tr>\n",
       "    <tr>\n",
       "      <th>3</th>\n",
       "      <td>1.000000</td>\n",
       "      <td>0.041270</td>\n",
       "      <td>0.016960</td>\n",
       "      <td>0.066881</td>\n",
       "    </tr>\n",
       "    <tr>\n",
       "      <th>4</th>\n",
       "      <td>1.000000</td>\n",
       "      <td>0.006576</td>\n",
       "      <td>0.000000</td>\n",
       "      <td>0.000876</td>\n",
       "    </tr>\n",
       "    <tr>\n",
       "      <th>...</th>\n",
       "      <td>...</td>\n",
       "      <td>...</td>\n",
       "      <td>...</td>\n",
       "      <td>...</td>\n",
       "    </tr>\n",
       "    <tr>\n",
       "      <th>5335</th>\n",
       "      <td>0.333333</td>\n",
       "      <td>0.069615</td>\n",
       "      <td>0.000858</td>\n",
       "      <td>0.000000</td>\n",
       "    </tr>\n",
       "    <tr>\n",
       "      <th>5336</th>\n",
       "      <td>0.333333</td>\n",
       "      <td>0.005669</td>\n",
       "      <td>0.000381</td>\n",
       "      <td>0.000000</td>\n",
       "    </tr>\n",
       "    <tr>\n",
       "      <th>5337</th>\n",
       "      <td>0.333333</td>\n",
       "      <td>0.004762</td>\n",
       "      <td>0.000095</td>\n",
       "      <td>0.000000</td>\n",
       "    </tr>\n",
       "    <tr>\n",
       "      <th>5338</th>\n",
       "      <td>0.666667</td>\n",
       "      <td>0.024490</td>\n",
       "      <td>0.000381</td>\n",
       "      <td>0.000000</td>\n",
       "    </tr>\n",
       "    <tr>\n",
       "      <th>5339</th>\n",
       "      <td>0.333333</td>\n",
       "      <td>0.064853</td>\n",
       "      <td>0.000238</td>\n",
       "      <td>0.000000</td>\n",
       "    </tr>\n",
       "  </tbody>\n",
       "</table>\n",
       "<p>5340 rows × 4 columns</p>\n",
       "</div>"
      ],
      "text/plain": [
       "      status_type  sum_reactions  num_comments  num_shares\n",
       "0        1.000000       0.021995      0.008433    0.061332\n",
       "1        1.000000       0.006122      0.000000    0.005257\n",
       "2        0.333333       0.000454      0.000000    0.000000\n",
       "3        1.000000       0.041270      0.016960    0.066881\n",
       "4        1.000000       0.006576      0.000000    0.000876\n",
       "...           ...            ...           ...         ...\n",
       "5335     0.333333       0.069615      0.000858    0.000000\n",
       "5336     0.333333       0.005669      0.000381    0.000000\n",
       "5337     0.333333       0.004762      0.000095    0.000000\n",
       "5338     0.666667       0.024490      0.000381    0.000000\n",
       "5339     0.333333       0.064853      0.000238    0.000000\n",
       "\n",
       "[5340 rows x 4 columns]"
      ]
     },
     "execution_count": 566,
     "metadata": {},
     "output_type": "execute_result"
    }
   ],
   "source": [
    "X = pd.DataFrame(X, columns = cols)\n",
    "X"
   ]
  },
  {
   "cell_type": "markdown",
   "id": "d0c2c096",
   "metadata": {},
   "source": [
    "# K-Means Clustering"
   ]
  },
  {
   "cell_type": "code",
   "execution_count": 567,
   "id": "7d2622a1",
   "metadata": {},
   "outputs": [
    {
     "data": {
      "image/png": "[encoded data removed]",
      "text/plain": [
       "<Figure size 800x500 with 1 Axes>"
      ]
     },
     "metadata": {},
     "output_type": "display_data"
    }
   ],
   "source": [
    "# Using Elbow Rule to find the optimate number of clusters, for K-Means clustering\n",
    "from sklearn.cluster import KMeans\n",
    "cs = []\n",
    "for i in range(1, 11):\n",
    "    kmeans = KMeans(n_clusters = i, init = 'k-means++', max_iter = 300, n_init = 10, random_state = 0)\n",
    "    kmeans.fit(X)\n",
    "    cs.append(kmeans.inertia_)\n",
    "plt.plot(range(1, 11), cs)\n",
    "plt.title('Elbow Rule')\n",
    "plt.xlabel('Number of Clusters')\n",
    "plt.show()"
   ]
  },
  {
   "cell_type": "markdown",
   "id": "15ac609d",
   "metadata": {},
   "source": [
    "#### 2 clusters looks like the best"
   ]
  },
  {
   "cell_type": "code",
   "execution_count": 568,
   "id": "0ae4a923",
   "metadata": {},
   "outputs": [
    {
     "name": "stdout",
     "output_type": "stream",
     "text": [
      "Result: 48 out of 5340 samples were correctly labeled.\n",
      "Accuracy score: 0.01\n"
     ]
    }
   ],
   "source": [
    "from sklearn.cluster import KMeans\n",
    "kmeans = KMeans(n_clusters=2,random_state=0)\n",
    "kmeans.fit(X)\n",
    "labels = kmeans.labels_\n",
    "\n",
    "# How many of the samples were labeled correctly\n",
    "\n",
    "correct_labels = sum(y == labels)\n",
    "print(\"Result: %d out of %d samples were correctly labeled.\" % (correct_labels, y.size))\n",
    "print('Accuracy score: {0:0.2f}'. format(correct_labels/float(y.size)))"
   ]
  },
  {
   "cell_type": "markdown",
   "id": "68bc651b",
   "metadata": {},
   "source": [
    "Two clusters didn't give us very good results, so I will try other numbers of clusters"
   ]
  },
  {
   "cell_type": "markdown",
   "id": "cbd9ccd4",
   "metadata": {},
   "source": [
    "#### 3 Clusters"
   ]
  },
  {
   "cell_type": "code",
   "execution_count": 569,
   "id": "68154ae4",
   "metadata": {},
   "outputs": [
    {
     "name": "stdout",
     "output_type": "stream",
     "text": [
      "Result: 326 out of 5340 samples were correctly labeled.\n",
      "Accuracy score: 0.06\n"
     ]
    }
   ],
   "source": [
    "from sklearn.cluster import KMeans\n",
    "kmeans = KMeans(n_clusters=3,random_state=0)\n",
    "kmeans.fit(X)\n",
    "labels = kmeans.labels_\n",
    "\n",
    "# How many of the samples were labeled correctly\n",
    "\n",
    "correct_labels = sum(y == labels)\n",
    "print(\"Result: %d out of %d samples were correctly labeled.\" % (correct_labels, y.size))\n",
    "print('Accuracy score: {0:0.2f}'. format(correct_labels/float(y.size)))"
   ]
  },
  {
   "cell_type": "markdown",
   "id": "3caf5f08",
   "metadata": {},
   "source": [
    "#### 4 Clusters"
   ]
  },
  {
   "cell_type": "code",
   "execution_count": 570,
   "id": "6381d7fb",
   "metadata": {},
   "outputs": [
    {
     "name": "stdout",
     "output_type": "stream",
     "text": [
      "Result: 539 out of 5340 samples were correctly labeled.\n",
      "Accuracy score: 0.10\n"
     ]
    }
   ],
   "source": [
    "from sklearn.cluster import KMeans\n",
    "kmeans = KMeans(n_clusters=4,random_state=0)\n",
    "kmeans.fit(X)\n",
    "labels = kmeans.labels_\n",
    "\n",
    "# How many of the samples were labeled correctly\n",
    "\n",
    "correct_labels = sum(y == labels)\n",
    "print(\"Result: %d out of %d samples were correctly labeled.\" % (correct_labels, y.size))\n",
    "print('Accuracy score: {0:0.2f}'. format(correct_labels/float(y.size)))"
   ]
  },
  {
   "cell_type": "markdown",
   "id": "c6eecc41",
   "metadata": {},
   "source": [
    "#### 6 Clusters"
   ]
  },
  {
   "cell_type": "code",
   "execution_count": 571,
   "id": "271c60ff",
   "metadata": {},
   "outputs": [
    {
     "name": "stdout",
     "output_type": "stream",
     "text": [
      "Result: 4716 out of 5340 samples were correctly labeled.\n",
      "Accuracy score: 0.88\n"
     ]
    }
   ],
   "source": [
    "from sklearn.cluster import KMeans\n",
    "kmeans = KMeans(n_clusters=6,random_state=0)\n",
    "kmeans.fit(X)\n",
    "labels = kmeans.labels_\n",
    "\n",
    "# How many of the samples were labeled correctly\n",
    "\n",
    "correct_labels = sum(y == labels)\n",
    "print(\"Result: %d out of %d samples were correctly labeled.\" % (correct_labels, y.size))\n",
    "print('Accuracy score: {0:0.2f}'. format(correct_labels/float(y.size)))"
   ]
  },
  {
   "cell_type": "markdown",
   "id": "911c2b49",
   "metadata": {},
   "source": [
    "#### 8 Clusters"
   ]
  },
  {
   "cell_type": "code",
   "execution_count": 572,
   "id": "dea21c62",
   "metadata": {},
   "outputs": [
    {
     "name": "stdout",
     "output_type": "stream",
     "text": [
      "Result: 370 out of 5340 samples were correctly labeled.\n",
      "Accuracy score: 0.07\n"
     ]
    }
   ],
   "source": [
    "from sklearn.cluster import KMeans\n",
    "kmeans = KMeans(n_clusters=8,random_state=0)\n",
    "kmeans.fit(X)\n",
    "labels = kmeans.labels_\n",
    "\n",
    "# How many of the samples were labeled correctly\n",
    "\n",
    "correct_labels = sum(y == labels)\n",
    "print(\"Result: %d out of %d samples were correctly labeled.\" % (correct_labels, y.size))\n",
    "print('Accuracy score: {0:0.2f}'. format(correct_labels/float(y.size)))"
   ]
  },
  {
   "cell_type": "markdown",
   "id": "11b6455f",
   "metadata": {},
   "source": [
    "### 6 clusters gives the highest accuracy of 88%"
   ]
  },
  {
   "cell_type": "code",
   "execution_count": null,
   "id": "8a64e412",
   "metadata": {},
   "outputs": [],
   "source": []
  },
  {
   "cell_type": "code",
   "execution_count": null,
   "id": "a6738359",
   "metadata": {},
   "outputs": [],
   "source": []
  },
  {
   "cell_type": "code",
   "execution_count": null,
   "id": "64d73097",
   "metadata": {},
   "outputs": [],
   "source": []
  },
  {
   "cell_type": "code",
   "execution_count": null,
   "id": "fa6417a0",
   "metadata": {},
   "outputs": [],
   "source": []
  },
  {
   "cell_type": "code",
   "execution_count": null,
   "id": "1e6c4a7b",
   "metadata": {},
   "outputs": [],
   "source": []
  },
  {
   "cell_type": "code",
   "execution_count": null,
   "id": "7d4a417f",
   "metadata": {},
   "outputs": [],
   "source": []
  },
  {
   "cell_type": "code",
   "execution_count": null,
   "id": "a041d368",
   "metadata": {},
   "outputs": [],
   "source": []
  },
  {
   "cell_type": "code",
   "execution_count": null,
   "id": "fb853e54",
   "metadata": {},
   "outputs": [],
   "source": []
  },
  {
   "cell_type": "code",
   "execution_count": null,
   "id": "662af613",
   "metadata": {},
   "outputs": [],
   "source": []
  },
  {
   "cell_type": "code",
   "execution_count": null,
   "id": "ea1d623a",
   "metadata": {},
   "outputs": [],
   "source": []
  }
 ],
 "metadata": {
  "kernelspec": {
   "display_name": "LighthouseLabs",
   "language": "python",
   "name": "lighthouselabs"
  },
  "language_info": {
   "codemirror_mode": {
    "name": "ipython",
    "version": 3
   },
   "file_extension": ".py",
   "mimetype": "text/x-python",
   "name": "python",
   "nbconvert_exporter": "python",
   "pygments_lexer": "ipython3",
   "version": "3.8.2"
  }
 },
 "nbformat": 4,
 "nbformat_minor": 5
}
